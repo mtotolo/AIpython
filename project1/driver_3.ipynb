{
 "cells": [
  {
   "cell_type": "code",
   "execution_count": 1,
   "metadata": {
    "collapsed": false
   },
   "outputs": [
    {
     "ename": "NameError",
     "evalue": "name 'driver_3' is not defined",
     "output_type": "error",
     "traceback": [
      "\u001b[0;31m---------------------------------------------------------------------------\u001b[0m",
      "\u001b[0;31mNameError\u001b[0m                                 Traceback (most recent call last)",
      "\u001b[0;32m<ipython-input-1-ad74836b1675>\u001b[0m in \u001b[0;36m<module>\u001b[0;34m()\u001b[0m\n\u001b[1;32m      7\u001b[0m \u001b[0mmethod\u001b[0m\u001b[1;33m=\u001b[0m\u001b[0msys\u001b[0m\u001b[1;33m.\u001b[0m\u001b[0margv\u001b[0m\u001b[1;33m[\u001b[0m\u001b[1;36m0\u001b[0m\u001b[1;33m]\u001b[0m\u001b[1;33m\u001b[0m\u001b[0m\n\u001b[1;32m      8\u001b[0m \u001b[0mstate\u001b[0m\u001b[1;33m=\u001b[0m\u001b[0msys\u001b[0m\u001b[1;33m.\u001b[0m\u001b[0margv\u001b[0m\u001b[1;33m[\u001b[0m\u001b[1;36m1\u001b[0m\u001b[1;33m]\u001b[0m\u001b[1;33m\u001b[0m\u001b[0m\n\u001b[0;32m----> 9\u001b[0;31m \u001b[0mdriver_3\u001b[0m\u001b[1;33m(\u001b[0m\u001b[0mmethod\u001b[0m\u001b[1;33m,\u001b[0m\u001b[0mstate\u001b[0m\u001b[1;33m)\u001b[0m\u001b[1;33m\u001b[0m\u001b[0m\n\u001b[0m",
      "\u001b[0;31mNameError\u001b[0m: name 'driver_3' is not defined"
     ]
    }
   ],
   "source": [
    "import sys\n",
    "import copy \n",
    "import os\n",
    "import psutil\n",
    "import time\n",
    "import math\n",
    "method=sys.argv[0]\n",
    "state=sys.argv[1]\n",
    "driver_3(method,state)"
   ]
  },
  {
   "cell_type": "code",
   "execution_count": 197,
   "metadata": {
    "collapsed": false
   },
   "outputs": [],
   "source": [
    "def to2D(state1D): # returns 2D representation of 1D state\n",
    "    return [[state1D[i+j*N] for i in range(N)] for j in range(N)]\n",
    "def to1D(state2D): # returns 1D state from 2D representation\n",
    "    return [item for sublist in state2D for item in sublist]"
   ]
  },
  {
   "cell_type": "code",
   "execution_count": 198,
   "metadata": {
    "collapsed": false
   },
   "outputs": [],
   "source": [
    "def get_children(state): # returns list of 1D state of children UDLR ordered\n",
    "    state2D = to2D(state)\n",
    "    idx = state.index(0)\n",
    "    idx2D = divmod(idx,N)\n",
    "    children=[None]*4\n",
    "    if (idx2D[0]>0): \n",
    "        child2D = copy.deepcopy(state2D)\n",
    "        child2D[idx2D[0]][idx2D[1]] = state2D[idx2D[0]-1][idx2D[1]]\n",
    "        child2D[idx2D[0]-1][idx2D[1]] = 0\n",
    "        children[0]=to1D(child2D)\n",
    "    if (idx2D[0]<N-1): \n",
    "        child2D = copy.deepcopy(state2D)\n",
    "        child2D[idx2D[0]][idx2D[1]] = state2D[idx2D[0]+1][idx2D[1]]\n",
    "        child2D[idx2D[0]+1][idx2D[1]] = 0\n",
    "        children[1]=to1D(child2D)\n",
    "    if (idx2D[1]>0): \n",
    "        child2D = copy.deepcopy(state2D)\n",
    "        child2D[idx2D[0]][idx2D[1]] = state2D[idx2D[0]][idx2D[1]-1]\n",
    "        child2D[idx2D[0]][idx2D[1]-1] = 0\n",
    "        children[2]=to1D(child2D)\n",
    "    if (idx2D[1]<N-1): \n",
    "        child2D = copy.deepcopy(state2D)\n",
    "        child2D[idx2D[0]][idx2D[1]] = state2D[idx2D[0]][idx2D[1]+1]\n",
    "        child2D[idx2D[0]][idx2D[1]+1] = 0\n",
    "        children[3]=to1D(child2D)\n",
    "    return children"
   ]
  },
  {
   "cell_type": "code",
   "execution_count": 199,
   "metadata": {
    "collapsed": false
   },
   "outputs": [],
   "source": [
    "def get_man(state):\n",
    "    state2D=to2D(state)\n",
    "    dist=0\n",
    "    for i in range(1,N**2):\n",
    "        idx = state.index(i)\n",
    "        idx2D = divmod(idx,N)\n",
    "        target=divmod(i,N)\n",
    "        dist=dist+abs(idx2D[0]-target[0])+abs(idx2D[1]-target[1])\n",
    "    return dist"
   ]
  },
  {
   "cell_type": "code",
   "execution_count": 200,
   "metadata": {
    "collapsed": false
   },
   "outputs": [],
   "source": [
    "class State:\n",
    "    def set_loc(self, new_loc):\n",
    "        self.loc = new_loc #state in 1D list\n",
    "    def set_parent(self, new_parent):\n",
    "        self.parent = new_parent #parent of class 'state'\n",
    "    def set_depth(self, new_depth): # depth of state in tree\n",
    "        self.depth = new_depth\n",
    "    def get_stamp(self): #returns string stamp of 'self.loc'\n",
    "        return \"\".join(str(x) for x in self.loc)\n",
    "    def get_path(self): #builds the path to this state reading 'self.parent' recursively\n",
    "        st = self\n",
    "        path = []\n",
    "        while st.parent!=None:\n",
    "            path.append(st.dir)\n",
    "            st = st.parent\n",
    "        return list(reversed(path))\n",
    "    def set_dir(self, new_dir): #set last direction to get here, 0 to 3\n",
    "        self.dir =new_dir\n",
    "    def check(self): #check if solution reached\n",
    "        return (list(range(N**2)) == self.loc)"
   ]
  },
  {
   "cell_type": "code",
   "execution_count": 201,
   "metadata": {
    "collapsed": false
   },
   "outputs": [],
   "source": [
    "def BFS(initialState):\n",
    "    process = psutil.Process(os.getpid())\n",
    "    frontier = []\n",
    "    state=State()\n",
    "    state.set_loc(initialState)\n",
    "    state.set_depth(0)\n",
    "    state.set_parent(None)\n",
    "    frontier.append(state)\n",
    "#    explored = set()\n",
    "    exploredstamps= set()\n",
    "    UDLR=[\"Up\",\"Down\",\"Left\",\"Right\"]\n",
    "    max_fringe_size=0\n",
    "    max_depth=0\n",
    "    max_mem=0\n",
    "    while not(frontier==[]): \n",
    "        max_fringe_size=max(max_fringe_size,len(frontier))\n",
    "        max_mem=max(max_mem,process.memory_info().rss/(1024*1024))\n",
    "        state = frontier.pop(0)\n",
    "        if (state.check()): return [[UDLR[i] for i in state.get_path()],len(state.get_path()), \n",
    "                                    len(exploredstamps)-len(frontier)-1, len(frontier), max_fringe_size, \n",
    "                                    state.depth, max_depth,time.time(),max_mem]\n",
    "        for index,item in enumerate(get_children(state.loc)):\n",
    "            if item!=None:\n",
    "                child=State()\n",
    "                child.set_loc(item)\n",
    "                if not(child.get_stamp() in exploredstamps):\n",
    "                    child.set_depth(state.depth+1)\n",
    "                    child.set_parent(state)\n",
    "                    child.set_dir(index)\n",
    "                    frontier.append(child)\n",
    "#                    explored.add(child)\n",
    "                    exploredstamps.add(child.get_stamp())\n",
    "                    max_depth=max(max_depth,child.depth)\n",
    "    return False"
   ]
  },
  {
   "cell_type": "code",
   "execution_count": 211,
   "metadata": {
    "collapsed": false
   },
   "outputs": [],
   "source": [
    "def DFS(initialState):\n",
    "    process = psutil.Process(os.getpid())\n",
    "    frontier = []\n",
    "    state=State()\n",
    "    state.set_loc(initialState)\n",
    "    state.set_depth(0)\n",
    "    state.set_parent(None)\n",
    "    frontier.append(state)\n",
    "#    explored = set()\n",
    "    exploredstamps= set()\n",
    "    UDLR=list(reversed([\"Up\",\"Down\",\"Left\",\"Right\"]))\n",
    "    max_fringe_size=0\n",
    "    max_depth=0\n",
    "    max_mem=0\n",
    "    while not(frontier==[]): \n",
    "        max_fringe_size=max(max_fringe_size,len(frontier))\n",
    "        max_mem=max(max_mem,process.memory_info().rss/(1024*1024))\n",
    "        state = frontier.pop()\n",
    "        if (state.check()): return [[UDLR[i] for i in state.get_path()],len(state.get_path()), \n",
    "                                    len(exploredstamps)-len(frontier)-1, len(frontier), max_fringe_size, \n",
    "                                    state.depth, max_depth,time.time(),max_mem]\n",
    "        for index,item in enumerate(list(reversed(get_children(state.loc)))):\n",
    "            if item!=None:\n",
    "                child=State()\n",
    "                child.set_loc(item)\n",
    "                if not(child.get_stamp() in exploredstamps):\n",
    "                    child.set_depth(state.depth+1)\n",
    "                    child.set_parent(state)\n",
    "                    child.set_dir(index)\n",
    "                    frontier.append(child)\n",
    "#                    explored.add(child)\n",
    "                    exploredstamps.add(child.get_stamp())\n",
    "                    max_depth=max(max_depth,child.depth)\n",
    "    return False"
   ]
  },
  {
   "cell_type": "code",
   "execution_count": 217,
   "metadata": {
    "collapsed": true
   },
   "outputs": [],
   "source": [
    "def getMinCost(frontier,frontierkeys):\n",
    "    mins=[i for i, x in enumerate(frontierkeys) if x == min(frontierkeys)] #get all indexes with min cost\n",
    "#    print(mins)\n",
    "    if (len(mins)>1):\n",
    "        indexes=[]\n",
    "        for i in range(4):\n",
    "            for j in mins:\n",
    "                if frontier[j].dir==i: indexes.append(j)\n",
    "            if len(indexes)>0: return indexes[0]\n",
    "            indexes=[]\n",
    "    return mins[0]"
   ]
  },
  {
   "cell_type": "code",
   "execution_count": 221,
   "metadata": {
    "collapsed": true
   },
   "outputs": [],
   "source": [
    "def AST(initialState):\n",
    "    process = psutil.Process(os.getpid())\n",
    "    frontier = []\n",
    "    frontierkeys = []\n",
    "    state=State()\n",
    "    state.set_loc(initialState)\n",
    "    state.set_depth(0)\n",
    "    state.set_parent(None)\n",
    "    frontier.append(state)\n",
    "    frontierkeys.append(0)\n",
    "#    explored = set()\n",
    "    exploredstamps= set()\n",
    "    UDLR=[\"Up\",\"Down\",\"Left\",\"Right\"]\n",
    "    max_fringe_size=0\n",
    "    max_depth=0\n",
    "    max_mem=0\n",
    "    while not(frontier==[]): \n",
    "        max_fringe_size=max(max_fringe_size,len(frontier))\n",
    "        max_mem=max(max_mem,process.memory_info().rss/(1024*1024))\n",
    "        index=getMinCost(frontier,frontierkeys)\n",
    "        state = frontier.pop(index)\n",
    "        frontierkeys.pop(index)\n",
    "        if (state.check()): return [[UDLR[i] for i in state.get_path()],len(state.get_path()), \n",
    "                                    len(exploredstamps)-len(frontier)-1, len(frontier), max_fringe_size, \n",
    "                                    state.depth, max_depth,time.time(),max_mem]\n",
    "        for index,item in enumerate(get_children(state.loc)):\n",
    "            if item!=None:\n",
    "                child=State()\n",
    "                child.set_loc(item)\n",
    "                if not(child.get_stamp() in exploredstamps):\n",
    "                    child.set_depth(state.depth+1)\n",
    "                    child.set_parent(state)\n",
    "                    child.set_dir(index)\n",
    "                    frontier.append(child)\n",
    "                    frontierkeys.append(child.depth+get_man(child.loc))\n",
    "#                    explored.add(child)\n",
    "                    exploredstamps.add(child.get_stamp())\n",
    "                    max_depth=max(max_depth,child.depth)\n",
    "    return False"
   ]
  },
  {
   "cell_type": "code",
   "execution_count": 269,
   "metadata": {
    "collapsed": true
   },
   "outputs": [],
   "source": [
    "def IDA(initialState):\n",
    "    process = psutil.Process(os.getpid())\n",
    "    d=0\n",
    "    max_fringe_size=0\n",
    "    max_depth=0\n",
    "    max_mem=0\n",
    "    UDLR=list(reversed([\"Up\",\"Down\",\"Left\",\"Right\"])) \n",
    "    while(True):\n",
    "        d=d+1\n",
    "        frontier = []\n",
    "        frontierkeys = []\n",
    "        state=State()\n",
    "        state.set_loc(initialState)\n",
    "        state.set_depth(0)\n",
    "        state.set_parent(None)\n",
    "        frontier.append(state)\n",
    "        frontierkeys.append(0)\n",
    "    #    explored = set()\n",
    "        exploredstamps= set()\n",
    "        while not(frontier==[]): \n",
    "            max_fringe_size=max(max_fringe_size,len(frontier))\n",
    "            max_mem=max(max_mem,process.memory_info().rss/(1024*1024))\n",
    "            index=getMinCost(frontier,frontierkeys)\n",
    "            state = frontier.pop(index)\n",
    "            frontierkeys.pop(index)\n",
    "            if (state.check()): return [[UDLR[i] for i in state.get_path()],len(state.get_path()), \n",
    "                                        len(exploredstamps)-len(frontier)-1, len(frontier), max_fringe_size, \n",
    "                                        state.depth, max_depth,time.time(),max_mem]\n",
    "            if (state.depth<d):    \n",
    "                for index,item in enumerate(list(reversed(get_children(state.loc)))):\n",
    "                    if item!=None:\n",
    "                        child=State()\n",
    "                        child.set_loc(item)\n",
    "                        if not(child.get_stamp() in exploredstamps):\n",
    "                            child.set_depth(state.depth+1)\n",
    "                            child.set_parent(state)\n",
    "                            child.set_dir(index)\n",
    "                            frontier.append(child)\n",
    "                            frontierkeys.append(child.depth+get_man(child.loc))\n",
    "        #                    explored.add(child)\n",
    "                            exploredstamps.add(child.get_stamp())\n",
    "                            max_depth=max(max_depth,child.depth)\n",
    "    return False"
   ]
  },
  {
   "cell_type": "code",
   "execution_count": 301,
   "metadata": {
    "collapsed": true
   },
   "outputs": [],
   "source": [
    "def solve(method,state):\n",
    "    N=int(math.sqrt(len(state)))\n",
    "    options = {\"bfs\" : BFS,\n",
    "           \"dfs\" : DFS,\n",
    "           \"ast\" : AST,\n",
    "           \"ida\" : IDA,\n",
    "    }\n",
    "    process = psutil.Process(os.getpid())\n",
    "    baseMem= process.memory_info().rss/(1024*1024)\n",
    "    baseTime=time.time()\n",
    "    solved=options[method](state)\n",
    "    solved[7]=\"{0:.8f}\".format(solved[7]-baseTime)\n",
    "    solved[8]=\"{0:.8f}\".format(solved[8]-baseMem)\n",
    "    headers=[\"path_to_goal: \",\"cost_of_path: \",\"nodes_expanded: \",\"fringe_size: \",\"max_fringe_size: \",\n",
    "             \"search_depth: \",\"max_search_depth: \",\"running_time: \",\"max_ram_usage: \"]\n",
    "    values=[]\n",
    "    for i,j in zip(headers,solved):\n",
    "        values.append(i+str(j))\n",
    "    text_file = open(\"output.txt\", \"w\")\n",
    "    text_file.write(\"\\n\".join(values))\n",
    "    text_file.close()"
   ]
  },
  {
   "cell_type": "code",
   "execution_count": 58,
   "metadata": {
    "collapsed": true
   },
   "outputs": [],
   "source": [
    "s.set_dir(s1)"
   ]
  },
  {
   "cell_type": "code",
   "execution_count": 59,
   "metadata": {
    "collapsed": false
   },
   "outputs": [],
   "source": [
    "p=State()"
   ]
  },
  {
   "cell_type": "code",
   "execution_count": 60,
   "metadata": {
    "collapsed": true
   },
   "outputs": [],
   "source": [
    "s.set_parent(None)"
   ]
  },
  {
   "cell_type": "code",
   "execution_count": 61,
   "metadata": {
    "collapsed": true
   },
   "outputs": [],
   "source": [
    "p.set_parent(s)"
   ]
  },
  {
   "cell_type": "code",
   "execution_count": 62,
   "metadata": {
    "collapsed": true
   },
   "outputs": [],
   "source": [
    "p.set_dir(1)"
   ]
  },
  {
   "cell_type": "code",
   "execution_count": 63,
   "metadata": {
    "collapsed": false
   },
   "outputs": [
    {
     "data": {
      "text/plain": [
       "[1]"
      ]
     },
     "execution_count": 63,
     "metadata": {},
     "output_type": "execute_result"
    }
   ],
   "source": [
    "p.get_path()"
   ]
  },
  {
   "cell_type": "code",
   "execution_count": null,
   "metadata": {
    "collapsed": true
   },
   "outputs": [],
   "source": []
  },
  {
   "cell_type": "code",
   "execution_count": 9,
   "metadata": {
    "collapsed": false
   },
   "outputs": [
    {
     "data": {
      "text/plain": [
       "4"
      ]
     },
     "execution_count": 9,
     "metadata": {},
     "output_type": "execute_result"
    }
   ],
   "source": [
    "a.pop()"
   ]
  },
  {
   "cell_type": "code",
   "execution_count": 10,
   "metadata": {
    "collapsed": false
   },
   "outputs": [
    {
     "data": {
      "text/plain": [
       "[1, 2, 3]"
      ]
     },
     "execution_count": 10,
     "metadata": {},
     "output_type": "execute_result"
    }
   ],
   "source": [
    "a"
   ]
  },
  {
   "cell_type": "code",
   "execution_count": 319,
   "metadata": {
    "collapsed": false
   },
   "outputs": [
    {
     "data": {
      "text/plain": [
       "{1, 2}"
      ]
     },
     "execution_count": 319,
     "metadata": {},
     "output_type": "execute_result"
    }
   ],
   "source": [
    "a"
   ]
  },
  {
   "cell_type": "code",
   "execution_count": null,
   "metadata": {
    "collapsed": true
   },
   "outputs": [],
   "source": []
  },
  {
   "cell_type": "code",
   "execution_count": 155,
   "metadata": {
    "collapsed": false
   },
   "outputs": [],
   "source": [
    "UDLR=[\"U\",\"D\",\"L\",\"R\"]"
   ]
  },
  {
   "cell_type": "code",
   "execution_count": 236,
   "metadata": {
    "collapsed": true
   },
   "outputs": [],
   "source": [
    "s2 = [1,2,5,3,4,0,6,7,8]"
   ]
  },
  {
   "cell_type": "code",
   "execution_count": 165,
   "metadata": {
    "collapsed": false
   },
   "outputs": [
    {
     "data": {
      "text/plain": [
       "[3, 4]"
      ]
     },
     "execution_count": 165,
     "metadata": {},
     "output_type": "execute_result"
    }
   ],
   "source": [
    "b"
   ]
  },
  {
   "cell_type": "code",
   "execution_count": 166,
   "metadata": {
    "collapsed": true
   },
   "outputs": [],
   "source": [
    "b.append(5)"
   ]
  },
  {
   "cell_type": "code",
   "execution_count": 170,
   "metadata": {
    "collapsed": false
   },
   "outputs": [
    {
     "data": {
      "text/plain": [
       "3"
      ]
     },
     "execution_count": 170,
     "metadata": {},
     "output_type": "execute_result"
    }
   ],
   "source": [
    "b.pop(0)"
   ]
  },
  {
   "cell_type": "code",
   "execution_count": 73,
   "metadata": {
    "collapsed": false
   },
   "outputs": [
    {
     "data": {
      "text/plain": [
       "[2]"
      ]
     },
     "execution_count": 73,
     "metadata": {},
     "output_type": "execute_result"
    }
   ],
   "source": [
    "a.path"
   ]
  },
  {
   "cell_type": "code",
   "execution_count": 127,
   "metadata": {
    "collapsed": false
   },
   "outputs": [],
   "source": [
    "s1=[1, 2, 0, 3, 4, 5, 6, 7, 8]"
   ]
  },
  {
   "cell_type": "code",
   "execution_count": null,
   "metadata": {
    "collapsed": false
   },
   "outputs": [],
   "source": [
    "s1"
   ]
  },
  {
   "cell_type": "code",
   "execution_count": 153,
   "metadata": {
    "collapsed": false
   },
   "outputs": [
    {
     "data": {
      "text/plain": [
       "[None, [3, 1, 2, 0, 4, 5, 6, 7, 8], None, [1, 0, 2, 3, 4, 5, 6, 7, 8]]"
      ]
     },
     "execution_count": 153,
     "metadata": {},
     "output_type": "execute_result"
    }
   ],
   "source": [
    "st1.children"
   ]
  },
  {
   "cell_type": "code",
   "execution_count": 87,
   "metadata": {
    "collapsed": false
   },
   "outputs": [
    {
     "data": {
      "text/plain": [
       "[0, 1, 2, 3, 4, 5, 6, 7, 8]"
      ]
     },
     "execution_count": 87,
     "metadata": {},
     "output_type": "execute_result"
    }
   ],
   "source": [
    "list(range(N**2))"
   ]
  },
  {
   "cell_type": "raw",
   "metadata": {},
   "source": [
    "st1.set_loc=[0,1,2,3,4,5,6,7,8]"
   ]
  },
  {
   "cell_type": "code",
   "execution_count": 95,
   "metadata": {
    "collapsed": false
   },
   "outputs": [
    {
     "data": {
      "text/plain": [
       "(1, 0)"
      ]
     },
     "execution_count": 95,
     "metadata": {},
     "output_type": "execute_result"
    }
   ],
   "source": [
    "divmod(3,3)"
   ]
  },
  {
   "cell_type": "code",
   "execution_count": 193,
   "metadata": {
    "collapsed": false
   },
   "outputs": [],
   "source": [
    "s1=[0, 1, 2, 3, 4, 5, 6, 7, 8]"
   ]
  },
  {
   "cell_type": "code",
   "execution_count": 194,
   "metadata": {
    "collapsed": false
   },
   "outputs": [
    {
     "data": {
      "text/plain": [
       "0"
      ]
     },
     "execution_count": 194,
     "metadata": {},
     "output_type": "execute_result"
    }
   ],
   "source": [
    "get_man(s1)"
   ]
  },
  {
   "cell_type": "code",
   "execution_count": 101,
   "metadata": {
    "collapsed": false
   },
   "outputs": [
    {
     "data": {
      "text/plain": [
       "[None, None, None, None]"
      ]
     },
     "execution_count": 101,
     "metadata": {},
     "output_type": "execute_result"
    }
   ],
   "source": [
    "[None]*4"
   ]
  },
  {
   "cell_type": "code",
   "execution_count": 98,
   "metadata": {
    "collapsed": false
   },
   "outputs": [
    {
     "data": {
      "text/plain": [
       "[[0, 1, 2, 3, 4, 5, 6, 7, 8], [0, 1, 2, 3, 4, 5, 6, 7, 8], None]"
      ]
     },
     "execution_count": 98,
     "metadata": {},
     "output_type": "execute_result"
    }
   ],
   "source": [
    "[s1,s1,None]"
   ]
  },
  {
   "cell_type": "code",
   "execution_count": 25,
   "metadata": {
    "collapsed": false
   },
   "outputs": [
    {
     "ename": "IndexError",
     "evalue": "list index out of range",
     "output_type": "error",
     "traceback": [
      "\u001b[0;31m---------------------------------------------------------------------------\u001b[0m",
      "\u001b[0;31mIndexError\u001b[0m                                Traceback (most recent call last)",
      "\u001b[0;32m<ipython-input-25-f9622d385a0c>\u001b[0m in \u001b[0;36m<module>\u001b[0;34m()\u001b[0m\n\u001b[0;32m----> 1\u001b[0;31m \u001b[0mt1\u001b[0m\u001b[1;33m[\u001b[0m\u001b[1;36m0\u001b[0m\u001b[1;33m]\u001b[0m\u001b[1;33m[\u001b[0m\u001b[1;36m3\u001b[0m\u001b[1;33m]\u001b[0m\u001b[1;33m\u001b[0m\u001b[0m\n\u001b[0m",
      "\u001b[0;31mIndexError\u001b[0m: list index out of range"
     ]
    }
   ],
   "source": [
    "t1[0][3]"
   ]
  },
  {
   "cell_type": "code",
   "execution_count": null,
   "metadata": {
    "collapsed": true
   },
   "outputs": [],
   "source": []
  }
 ],
 "metadata": {
  "anaconda-cloud": {},
  "kernelspec": {
   "display_name": "Python [default]",
   "language": "python",
   "name": "python3"
  },
  "language_info": {
   "codemirror_mode": {
    "name": "ipython",
    "version": 3
   },
   "file_extension": ".py",
   "mimetype": "text/x-python",
   "name": "python",
   "nbconvert_exporter": "python",
   "pygments_lexer": "ipython3",
   "version": "3.5.2"
  }
 },
 "nbformat": 4,
 "nbformat_minor": 1
}
